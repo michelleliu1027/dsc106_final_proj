{
 "cells": [
  {
   "cell_type": "code",
   "execution_count": 104,
   "metadata": {},
   "outputs": [],
   "source": [
    "import pandas as pd\n",
    "import json"
   ]
  },
  {
   "cell_type": "code",
   "execution_count": 130,
   "metadata": {},
   "outputs": [],
   "source": [
    "data = pd.read_csv('data.csv')"
   ]
  },
  {
   "cell_type": "code",
   "execution_count": 131,
   "metadata": {},
   "outputs": [],
   "source": [
    "data = data.loc[(data['year']>=2005)&(data['year']<=2015)]"
   ]
  },
  {
   "cell_type": "code",
   "execution_count": 132,
   "metadata": {},
   "outputs": [],
   "source": [
    "overall = data.groupby('year')[['suicides_no','population']].apply(lambda x: x['suicides_no'].sum()/x['population'].sum()*100).to_list()"
   ]
  },
  {
   "cell_type": "code",
   "execution_count": 133,
   "metadata": {},
   "outputs": [],
   "source": [
    "total_overall = {}\n",
    "for i in range(2005,2016):\n",
    "    inner_dict = {}\n",
    "    inner_dict['year'] = str(i)\n",
    "    inner_dict['suicide_rate'] = overall[i-2005]\n",
    "    total_overall[str(i)]=inner_dict"
   ]
  },
  {
   "cell_type": "code",
   "execution_count": 134,
   "metadata": {},
   "outputs": [],
   "source": [
    "country_suicide = data.groupby(['year','country'])[['suicides_no','population']].apply(lambda x: x['suicides_no'].sum()/x['population'].sum()*100).to_frame().reset_index().rename(columns={0:'suicide_rate'})"
   ]
  },
  {
   "cell_type": "code",
   "execution_count": 135,
   "metadata": {},
   "outputs": [],
   "source": [
    "GDP_country = data.groupby(['year','country'])['gdp_per_capita ($)'].mean().to_frame().rename(columns={0:'GDP per capita'}).reset_index()"
   ]
  },
  {
   "cell_type": "code",
   "execution_count": 136,
   "metadata": {},
   "outputs": [
    {
     "data": {
      "text/html": [
       "<div>\n",
       "<style scoped>\n",
       "    .dataframe tbody tr th:only-of-type {\n",
       "        vertical-align: middle;\n",
       "    }\n",
       "\n",
       "    .dataframe tbody tr th {\n",
       "        vertical-align: top;\n",
       "    }\n",
       "\n",
       "    .dataframe thead th {\n",
       "        text-align: right;\n",
       "    }\n",
       "</style>\n",
       "<table border=\"1\" class=\"dataframe\">\n",
       "  <thead>\n",
       "    <tr style=\"text-align: right;\">\n",
       "      <th></th>\n",
       "      <th>country</th>\n",
       "      <th>year</th>\n",
       "      <th>sex</th>\n",
       "      <th>age</th>\n",
       "      <th>suicides_no</th>\n",
       "      <th>population</th>\n",
       "      <th>suicides/100k pop</th>\n",
       "      <th>country-year</th>\n",
       "      <th>HDI for year</th>\n",
       "      <th>gdp_for_year ($)</th>\n",
       "      <th>gdp_per_capita ($)</th>\n",
       "      <th>generation</th>\n",
       "    </tr>\n",
       "  </thead>\n",
       "  <tbody>\n",
       "    <tr>\n",
       "      <td>13604</td>\n",
       "      <td>Japan</td>\n",
       "      <td>2005</td>\n",
       "      <td>male</td>\n",
       "      <td>55-74 years</td>\n",
       "      <td>8005</td>\n",
       "      <td>15797130</td>\n",
       "      <td>50.67</td>\n",
       "      <td>Japan2005</td>\n",
       "      <td>0.874</td>\n",
       "      <td>4,755,410,630,912</td>\n",
       "      <td>39412</td>\n",
       "      <td>Silent</td>\n",
       "    </tr>\n",
       "    <tr>\n",
       "      <td>13605</td>\n",
       "      <td>Japan</td>\n",
       "      <td>2005</td>\n",
       "      <td>male</td>\n",
       "      <td>35-54 years</td>\n",
       "      <td>8073</td>\n",
       "      <td>16566953</td>\n",
       "      <td>48.73</td>\n",
       "      <td>Japan2005</td>\n",
       "      <td>0.874</td>\n",
       "      <td>4,755,410,630,912</td>\n",
       "      <td>39412</td>\n",
       "      <td>Boomers</td>\n",
       "    </tr>\n",
       "    <tr>\n",
       "      <td>13606</td>\n",
       "      <td>Japan</td>\n",
       "      <td>2005</td>\n",
       "      <td>male</td>\n",
       "      <td>75+ years</td>\n",
       "      <td>1858</td>\n",
       "      <td>4288706</td>\n",
       "      <td>43.32</td>\n",
       "      <td>Japan2005</td>\n",
       "      <td>0.874</td>\n",
       "      <td>4,755,410,630,912</td>\n",
       "      <td>39412</td>\n",
       "      <td>Silent</td>\n",
       "    </tr>\n",
       "    <tr>\n",
       "      <td>13607</td>\n",
       "      <td>Japan</td>\n",
       "      <td>2005</td>\n",
       "      <td>male</td>\n",
       "      <td>25-34 years</td>\n",
       "      <td>2862</td>\n",
       "      <td>8984855</td>\n",
       "      <td>31.85</td>\n",
       "      <td>Japan2005</td>\n",
       "      <td>0.874</td>\n",
       "      <td>4,755,410,630,912</td>\n",
       "      <td>39412</td>\n",
       "      <td>Generation X</td>\n",
       "    </tr>\n",
       "    <tr>\n",
       "      <td>13608</td>\n",
       "      <td>Japan</td>\n",
       "      <td>2005</td>\n",
       "      <td>female</td>\n",
       "      <td>75+ years</td>\n",
       "      <td>1600</td>\n",
       "      <td>7307828</td>\n",
       "      <td>21.89</td>\n",
       "      <td>Japan2005</td>\n",
       "      <td>0.874</td>\n",
       "      <td>4,755,410,630,912</td>\n",
       "      <td>39412</td>\n",
       "      <td>Silent</td>\n",
       "    </tr>\n",
       "    <tr>\n",
       "      <td>...</td>\n",
       "      <td>...</td>\n",
       "      <td>...</td>\n",
       "      <td>...</td>\n",
       "      <td>...</td>\n",
       "      <td>...</td>\n",
       "      <td>...</td>\n",
       "      <td>...</td>\n",
       "      <td>...</td>\n",
       "      <td>...</td>\n",
       "      <td>...</td>\n",
       "      <td>...</td>\n",
       "      <td>...</td>\n",
       "    </tr>\n",
       "    <tr>\n",
       "      <td>13731</td>\n",
       "      <td>Japan</td>\n",
       "      <td>2015</td>\n",
       "      <td>female</td>\n",
       "      <td>35-54 years</td>\n",
       "      <td>2024</td>\n",
       "      <td>16991218</td>\n",
       "      <td>11.91</td>\n",
       "      <td>Japan2015</td>\n",
       "      <td>NaN</td>\n",
       "      <td>4,394,977,752,878</td>\n",
       "      <td>36510</td>\n",
       "      <td>Generation X</td>\n",
       "    </tr>\n",
       "    <tr>\n",
       "      <td>13732</td>\n",
       "      <td>Japan</td>\n",
       "      <td>2015</td>\n",
       "      <td>female</td>\n",
       "      <td>25-34 years</td>\n",
       "      <td>685</td>\n",
       "      <td>6614211</td>\n",
       "      <td>10.36</td>\n",
       "      <td>Japan2015</td>\n",
       "      <td>NaN</td>\n",
       "      <td>4,394,977,752,878</td>\n",
       "      <td>36510</td>\n",
       "      <td>Millenials</td>\n",
       "    </tr>\n",
       "    <tr>\n",
       "      <td>13733</td>\n",
       "      <td>Japan</td>\n",
       "      <td>2015</td>\n",
       "      <td>female</td>\n",
       "      <td>15-24 years</td>\n",
       "      <td>408</td>\n",
       "      <td>5772938</td>\n",
       "      <td>7.07</td>\n",
       "      <td>Japan2015</td>\n",
       "      <td>NaN</td>\n",
       "      <td>4,394,977,752,878</td>\n",
       "      <td>36510</td>\n",
       "      <td>Millenials</td>\n",
       "    </tr>\n",
       "    <tr>\n",
       "      <td>13734</td>\n",
       "      <td>Japan</td>\n",
       "      <td>2015</td>\n",
       "      <td>male</td>\n",
       "      <td>5-14 years</td>\n",
       "      <td>62</td>\n",
       "      <td>5553851</td>\n",
       "      <td>1.12</td>\n",
       "      <td>Japan2015</td>\n",
       "      <td>NaN</td>\n",
       "      <td>4,394,977,752,878</td>\n",
       "      <td>36510</td>\n",
       "      <td>Generation Z</td>\n",
       "    </tr>\n",
       "    <tr>\n",
       "      <td>13735</td>\n",
       "      <td>Japan</td>\n",
       "      <td>2015</td>\n",
       "      <td>female</td>\n",
       "      <td>5-14 years</td>\n",
       "      <td>28</td>\n",
       "      <td>5287719</td>\n",
       "      <td>0.53</td>\n",
       "      <td>Japan2015</td>\n",
       "      <td>NaN</td>\n",
       "      <td>4,394,977,752,878</td>\n",
       "      <td>36510</td>\n",
       "      <td>Generation Z</td>\n",
       "    </tr>\n",
       "  </tbody>\n",
       "</table>\n",
       "<p>132 rows × 12 columns</p>\n",
       "</div>"
      ],
      "text/plain": [
       "      country  year     sex          age  suicides_no  population  \\\n",
       "13604   Japan  2005    male  55-74 years         8005    15797130   \n",
       "13605   Japan  2005    male  35-54 years         8073    16566953   \n",
       "13606   Japan  2005    male    75+ years         1858     4288706   \n",
       "13607   Japan  2005    male  25-34 years         2862     8984855   \n",
       "13608   Japan  2005  female    75+ years         1600     7307828   \n",
       "...       ...   ...     ...          ...          ...         ...   \n",
       "13731   Japan  2015  female  35-54 years         2024    16991218   \n",
       "13732   Japan  2015  female  25-34 years          685     6614211   \n",
       "13733   Japan  2015  female  15-24 years          408     5772938   \n",
       "13734   Japan  2015    male   5-14 years           62     5553851   \n",
       "13735   Japan  2015  female   5-14 years           28     5287719   \n",
       "\n",
       "       suicides/100k pop country-year  HDI for year  gdp_for_year ($)   \\\n",
       "13604              50.67    Japan2005         0.874  4,755,410,630,912   \n",
       "13605              48.73    Japan2005         0.874  4,755,410,630,912   \n",
       "13606              43.32    Japan2005         0.874  4,755,410,630,912   \n",
       "13607              31.85    Japan2005         0.874  4,755,410,630,912   \n",
       "13608              21.89    Japan2005         0.874  4,755,410,630,912   \n",
       "...                  ...          ...           ...                ...   \n",
       "13731              11.91    Japan2015           NaN  4,394,977,752,878   \n",
       "13732              10.36    Japan2015           NaN  4,394,977,752,878   \n",
       "13733               7.07    Japan2015           NaN  4,394,977,752,878   \n",
       "13734               1.12    Japan2015           NaN  4,394,977,752,878   \n",
       "13735               0.53    Japan2015           NaN  4,394,977,752,878   \n",
       "\n",
       "       gdp_per_capita ($)    generation  \n",
       "13604               39412        Silent  \n",
       "13605               39412       Boomers  \n",
       "13606               39412        Silent  \n",
       "13607               39412  Generation X  \n",
       "13608               39412        Silent  \n",
       "...                   ...           ...  \n",
       "13731               36510  Generation X  \n",
       "13732               36510    Millenials  \n",
       "13733               36510    Millenials  \n",
       "13734               36510  Generation Z  \n",
       "13735               36510  Generation Z  \n",
       "\n",
       "[132 rows x 12 columns]"
      ]
     },
     "execution_count": 136,
     "metadata": {},
     "output_type": "execute_result"
    }
   ],
   "source": [
    "data[data['country']=='Japan']"
   ]
  },
  {
   "cell_type": "code",
   "execution_count": 137,
   "metadata": {},
   "outputs": [],
   "source": [
    "graph2 = country_suicide.merge(GDP_country)"
   ]
  },
  {
   "cell_type": "code",
   "execution_count": 138,
   "metadata": {},
   "outputs": [],
   "source": [
    "graph2['output'] = graph2.apply(lambda x:[x['suicide_rate'],x['gdp_per_capita ($)']],axis=1)"
   ]
  },
  {
   "cell_type": "code",
   "execution_count": 139,
   "metadata": {},
   "outputs": [
    {
     "data": {
      "text/html": [
       "<div>\n",
       "<style scoped>\n",
       "    .dataframe tbody tr th:only-of-type {\n",
       "        vertical-align: middle;\n",
       "    }\n",
       "\n",
       "    .dataframe tbody tr th {\n",
       "        vertical-align: top;\n",
       "    }\n",
       "\n",
       "    .dataframe thead th {\n",
       "        text-align: right;\n",
       "    }\n",
       "</style>\n",
       "<table border=\"1\" class=\"dataframe\">\n",
       "  <thead>\n",
       "    <tr style=\"text-align: right;\">\n",
       "      <th></th>\n",
       "      <th>year</th>\n",
       "      <th>country</th>\n",
       "      <th>suicide_rate</th>\n",
       "      <th>gdp_per_capita ($)</th>\n",
       "      <th>output</th>\n",
       "    </tr>\n",
       "  </thead>\n",
       "  <tbody>\n",
       "    <tr>\n",
       "      <td>0</td>\n",
       "      <td>2005</td>\n",
       "      <td>Albania</td>\n",
       "      <td>0.0</td>\n",
       "      <td>2931</td>\n",
       "      <td>[0.0, 2931]</td>\n",
       "    </tr>\n",
       "    <tr>\n",
       "      <td>1</td>\n",
       "      <td>2005</td>\n",
       "      <td>Antigua and Barbuda</td>\n",
       "      <td>0.0</td>\n",
       "      <td>12649</td>\n",
       "      <td>[0.0, 12649]</td>\n",
       "    </tr>\n",
       "  </tbody>\n",
       "</table>\n",
       "</div>"
      ],
      "text/plain": [
       "   year              country  suicide_rate  gdp_per_capita ($)        output\n",
       "0  2005              Albania           0.0                2931   [0.0, 2931]\n",
       "1  2005  Antigua and Barbuda           0.0               12649  [0.0, 12649]"
      ]
     },
     "execution_count": 139,
     "metadata": {},
     "output_type": "execute_result"
    }
   ],
   "source": [
    "graph2.head(2)"
   ]
  },
  {
   "cell_type": "code",
   "execution_count": 140,
   "metadata": {},
   "outputs": [],
   "source": [
    "graph2_dict = {}\n",
    "for i in range(2005,2016):\n",
    "    inner = graph2.loc[graph2['year']==i]\n",
    "    value = inner['output'].values\n",
    "    countries = inner['country'].values\n",
    "    inner_dict = {}\n",
    "    for j in range(len(countries)):\n",
    "        inner_dict[countries[j]]=value[j]\n",
    "    graph2_dict[str(i)] = inner_dict"
   ]
  },
  {
   "cell_type": "code",
   "execution_count": 148,
   "metadata": {},
   "outputs": [],
   "source": [
    "c = data.groupby(['year','age'])[['suicides_no','population']].apply(lambda x: x['suicides_no'].sum()/x['population'].sum()*100).to_frame().rename(columns={0:'proportion'}).reset_index()"
   ]
  },
  {
   "cell_type": "code",
   "execution_count": 153,
   "metadata": {},
   "outputs": [],
   "source": [
    "c['prop_in_group'] = c.groupby('year')['proportion'].apply(lambda x: x/x.sum()*100)"
   ]
  },
  {
   "cell_type": "code",
   "execution_count": 168,
   "metadata": {},
   "outputs": [],
   "source": [
    "out1 = {}\n",
    "for i in range(2005,2016):\n",
    "    yearlist = []\n",
    "    curr = c[c['year']==i].reset_index(drop=True)\n",
    "    for j in range(len(curr)):\n",
    "        inner1 = {}\n",
    "        inner1['name']=curr.age[j]\n",
    "        inner1['weight'] = curr.proportion[j]\n",
    "        yearlist+=[inner1]\n",
    "    out1[str(i)]=yearlist"
   ]
  },
  {
   "cell_type": "code",
   "execution_count": 169,
   "metadata": {},
   "outputs": [
    {
     "data": {
      "text/plain": [
       "{'2005': [{'name': '15-24 years', 'weight': 0.009635479795514358},\n",
       "  {'name': '25-34 years', 'weight': 0.013453973672914187},\n",
       "  {'name': '35-54 years', 'weight': 0.017439895539562163},\n",
       "  {'name': '5-14 years', 'weight': 0.0006709596967634338},\n",
       "  {'name': '55-74 years', 'weight': 0.018797578682099268},\n",
       "  {'name': '75+ years', 'weight': 0.023132009141181617}],\n",
       " '2006': [{'name': '15-24 years', 'weight': 0.009155839646767137},\n",
       "  {'name': '25-34 years', 'weight': 0.0126033660729196},\n",
       "  {'name': '35-54 years', 'weight': 0.016221823377121827},\n",
       "  {'name': '5-14 years', 'weight': 0.0006194191459959174},\n",
       "  {'name': '55-74 years', 'weight': 0.017790258070644077},\n",
       "  {'name': '75+ years', 'weight': 0.022270990794608304}],\n",
       " '2007': [{'name': '15-24 years', 'weight': 0.009059153509160187},\n",
       "  {'name': '25-34 years', 'weight': 0.012720702605823657},\n",
       "  {'name': '35-54 years', 'weight': 0.015795192827402365},\n",
       "  {'name': '5-14 years', 'weight': 0.0005944600908719942},\n",
       "  {'name': '55-74 years', 'weight': 0.01743353936463109},\n",
       "  {'name': '75+ years', 'weight': 0.0222367339426252}],\n",
       " '2008': [{'name': '15-24 years', 'weight': 0.009313341478974708},\n",
       "  {'name': '25-34 years', 'weight': 0.012689727363546836},\n",
       "  {'name': '35-54 years', 'weight': 0.01596641690516499},\n",
       "  {'name': '5-14 years', 'weight': 0.0005880161674041297},\n",
       "  {'name': '55-74 years', 'weight': 0.01737233614881101},\n",
       "  {'name': '75+ years', 'weight': 0.02198681955740621}],\n",
       " '2009': [{'name': '15-24 years', 'weight': 0.008859530714573571},\n",
       "  {'name': '25-34 years', 'weight': 0.012363349038376333},\n",
       "  {'name': '35-54 years', 'weight': 0.015713336698086208},\n",
       "  {'name': '5-14 years', 'weight': 0.000617316086273203},\n",
       "  {'name': '55-74 years', 'weight': 0.01704679984011148},\n",
       "  {'name': '75+ years', 'weight': 0.020931033474679905}],\n",
       " '2010': [{'name': '15-24 years', 'weight': 0.008610930260873955},\n",
       "  {'name': '25-34 years', 'weight': 0.011926448131154338},\n",
       "  {'name': '35-54 years', 'weight': 0.015033372472803345},\n",
       "  {'name': '5-14 years', 'weight': 0.0005919597636876443},\n",
       "  {'name': '55-74 years', 'weight': 0.016540641511821778},\n",
       "  {'name': '75+ years', 'weight': 0.0207466793801083}],\n",
       " '2011': [{'name': '15-24 years', 'weight': 0.008805645596086148},\n",
       "  {'name': '25-34 years', 'weight': 0.011925365544863935},\n",
       "  {'name': '35-54 years', 'weight': 0.014746625780830984},\n",
       "  {'name': '5-14 years', 'weight': 0.0006385983728880508},\n",
       "  {'name': '55-74 years', 'weight': 0.016101453008527843},\n",
       "  {'name': '75+ years', 'weight': 0.020607725037566173}],\n",
       " '2012': [{'name': '15-24 years', 'weight': 0.008907850603983455},\n",
       "  {'name': '25-34 years', 'weight': 0.012071455581354577},\n",
       "  {'name': '35-54 years', 'weight': 0.014772591630334446},\n",
       "  {'name': '5-14 years', 'weight': 0.0006448742528886087},\n",
       "  {'name': '55-74 years', 'weight': 0.015999431496339638},\n",
       "  {'name': '75+ years', 'weight': 0.02063950469891352}],\n",
       " '2013': [{'name': '15-24 years', 'weight': 0.00841374860858617},\n",
       "  {'name': '25-34 years', 'weight': 0.011739849868183293},\n",
       "  {'name': '35-54 years', 'weight': 0.01457559175913298},\n",
       "  {'name': '5-14 years', 'weight': 0.0006734404082203344},\n",
       "  {'name': '55-74 years', 'weight': 0.015810103340547194},\n",
       "  {'name': '75+ years', 'weight': 0.02017471067232171}],\n",
       " '2014': [{'name': '15-24 years', 'weight': 0.008348587944476401},\n",
       "  {'name': '25-34 years', 'weight': 0.011687133767522194},\n",
       "  {'name': '35-54 years', 'weight': 0.014229673098903169},\n",
       "  {'name': '5-14 years', 'weight': 0.000701610537295549},\n",
       "  {'name': '55-74 years', 'weight': 0.01542514917754915},\n",
       "  {'name': '75+ years', 'weight': 0.020194186616293682}],\n",
       " '2015': [{'name': '15-24 years', 'weight': 0.008346640373303672},\n",
       "  {'name': '25-34 years', 'weight': 0.011501514067003808},\n",
       "  {'name': '35-54 years', 'weight': 0.0138181906403653},\n",
       "  {'name': '5-14 years', 'weight': 0.0006815703021338709},\n",
       "  {'name': '55-74 years', 'weight': 0.01511368287021958},\n",
       "  {'name': '75+ years', 'weight': 0.01983028437206037}]}"
      ]
     },
     "execution_count": 169,
     "metadata": {},
     "output_type": "execute_result"
    }
   ],
   "source": [
    "out1"
   ]
  },
  {
   "cell_type": "code",
   "execution_count": null,
   "metadata": {},
   "outputs": [],
   "source": []
  },
  {
   "cell_type": "code",
   "execution_count": 172,
   "metadata": {},
   "outputs": [
    {
     "data": {
      "text/plain": [
       "{'2005': [{'name': '15-24 years', 'weight': 0.009635479795514358},\n",
       "  {'name': '25-34 years', 'weight': 0.013453973672914187},\n",
       "  {'name': '35-54 years', 'weight': 0.017439895539562163},\n",
       "  {'name': '5-14 years', 'weight': 0.0006709596967634338},\n",
       "  {'name': '55-74 years', 'weight': 0.018797578682099268},\n",
       "  {'name': '75+ years', 'weight': 0.023132009141181617}],\n",
       " '2006': [{'name': '15-24 years', 'weight': 0.009155839646767137},\n",
       "  {'name': '25-34 years', 'weight': 0.0126033660729196},\n",
       "  {'name': '35-54 years', 'weight': 0.016221823377121827},\n",
       "  {'name': '5-14 years', 'weight': 0.0006194191459959174},\n",
       "  {'name': '55-74 years', 'weight': 0.017790258070644077},\n",
       "  {'name': '75+ years', 'weight': 0.022270990794608304}],\n",
       " '2007': [{'name': '15-24 years', 'weight': 0.009059153509160187},\n",
       "  {'name': '25-34 years', 'weight': 0.012720702605823657},\n",
       "  {'name': '35-54 years', 'weight': 0.015795192827402365},\n",
       "  {'name': '5-14 years', 'weight': 0.0005944600908719942},\n",
       "  {'name': '55-74 years', 'weight': 0.01743353936463109},\n",
       "  {'name': '75+ years', 'weight': 0.0222367339426252}],\n",
       " '2008': [{'name': '15-24 years', 'weight': 0.009313341478974708},\n",
       "  {'name': '25-34 years', 'weight': 0.012689727363546836},\n",
       "  {'name': '35-54 years', 'weight': 0.01596641690516499},\n",
       "  {'name': '5-14 years', 'weight': 0.0005880161674041297},\n",
       "  {'name': '55-74 years', 'weight': 0.01737233614881101},\n",
       "  {'name': '75+ years', 'weight': 0.02198681955740621}],\n",
       " '2009': [{'name': '15-24 years', 'weight': 0.008859530714573571},\n",
       "  {'name': '25-34 years', 'weight': 0.012363349038376333},\n",
       "  {'name': '35-54 years', 'weight': 0.015713336698086208},\n",
       "  {'name': '5-14 years', 'weight': 0.000617316086273203},\n",
       "  {'name': '55-74 years', 'weight': 0.01704679984011148},\n",
       "  {'name': '75+ years', 'weight': 0.020931033474679905}],\n",
       " '2010': [{'name': '15-24 years', 'weight': 0.008610930260873955},\n",
       "  {'name': '25-34 years', 'weight': 0.011926448131154338},\n",
       "  {'name': '35-54 years', 'weight': 0.015033372472803345},\n",
       "  {'name': '5-14 years', 'weight': 0.0005919597636876443},\n",
       "  {'name': '55-74 years', 'weight': 0.016540641511821778},\n",
       "  {'name': '75+ years', 'weight': 0.0207466793801083}],\n",
       " '2011': [{'name': '15-24 years', 'weight': 0.008805645596086148},\n",
       "  {'name': '25-34 years', 'weight': 0.011925365544863935},\n",
       "  {'name': '35-54 years', 'weight': 0.014746625780830984},\n",
       "  {'name': '5-14 years', 'weight': 0.0006385983728880508},\n",
       "  {'name': '55-74 years', 'weight': 0.016101453008527843},\n",
       "  {'name': '75+ years', 'weight': 0.020607725037566173}],\n",
       " '2012': [{'name': '15-24 years', 'weight': 0.008907850603983455},\n",
       "  {'name': '25-34 years', 'weight': 0.012071455581354577},\n",
       "  {'name': '35-54 years', 'weight': 0.014772591630334446},\n",
       "  {'name': '5-14 years', 'weight': 0.0006448742528886087},\n",
       "  {'name': '55-74 years', 'weight': 0.015999431496339638},\n",
       "  {'name': '75+ years', 'weight': 0.02063950469891352}],\n",
       " '2013': [{'name': '15-24 years', 'weight': 0.00841374860858617},\n",
       "  {'name': '25-34 years', 'weight': 0.011739849868183293},\n",
       "  {'name': '35-54 years', 'weight': 0.01457559175913298},\n",
       "  {'name': '5-14 years', 'weight': 0.0006734404082203344},\n",
       "  {'name': '55-74 years', 'weight': 0.015810103340547194},\n",
       "  {'name': '75+ years', 'weight': 0.02017471067232171}],\n",
       " '2014': [{'name': '15-24 years', 'weight': 0.008348587944476401},\n",
       "  {'name': '25-34 years', 'weight': 0.011687133767522194},\n",
       "  {'name': '35-54 years', 'weight': 0.014229673098903169},\n",
       "  {'name': '5-14 years', 'weight': 0.000701610537295549},\n",
       "  {'name': '55-74 years', 'weight': 0.01542514917754915},\n",
       "  {'name': '75+ years', 'weight': 0.020194186616293682}],\n",
       " '2015': [{'name': '15-24 years', 'weight': 0.008346640373303672},\n",
       "  {'name': '25-34 years', 'weight': 0.011501514067003808},\n",
       "  {'name': '35-54 years', 'weight': 0.0138181906403653},\n",
       "  {'name': '5-14 years', 'weight': 0.0006815703021338709},\n",
       "  {'name': '55-74 years', 'weight': 0.01511368287021958},\n",
       "  {'name': '75+ years', 'weight': 0.01983028437206037}]}"
      ]
     },
     "execution_count": 172,
     "metadata": {},
     "output_type": "execute_result"
    }
   ],
   "source": [
    "out1"
   ]
  },
  {
   "cell_type": "code",
   "execution_count": 170,
   "metadata": {},
   "outputs": [],
   "source": [
    "output = [total_overall,graph2_dict,out1]"
   ]
  },
  {
   "cell_type": "code",
   "execution_count": 171,
   "metadata": {},
   "outputs": [],
   "source": [
    "with open('dataset1.json', 'w') as fp:\n",
    "    json.dump(output, fp)"
   ]
  },
  {
   "cell_type": "code",
   "execution_count": 90,
   "metadata": {},
   "outputs": [],
   "source": [
    "out = []\n",
    "for i in range(2005,2016):\n",
    "    out+=[str(i)]"
   ]
  },
  {
   "cell_type": "code",
   "execution_count": 92,
   "metadata": {},
   "outputs": [
    {
     "data": {
      "text/plain": [
       "array(['2005', '2006', '2007', '2008', '2009', '2010', '2011', '2012',\n",
       "       '2013', '2014', '2015'], dtype='<U4')"
      ]
     },
     "execution_count": 92,
     "metadata": {},
     "output_type": "execute_result"
    }
   ],
   "source": [
    "import numpy as np\n",
    "np.array(out)"
   ]
  },
  {
   "cell_type": "code",
   "execution_count": 117,
   "metadata": {},
   "outputs": [
    {
     "data": {
      "text/plain": [
       "year\n",
       "2005    84\n",
       "2006    85\n",
       "2007    86\n",
       "2008    85\n",
       "2009    89\n",
       "2010    88\n",
       "2011    86\n",
       "2012    81\n",
       "2013    80\n",
       "2014    78\n",
       "2015    62\n",
       "Name: country, dtype: int64"
      ]
     },
     "execution_count": 117,
     "metadata": {},
     "output_type": "execute_result"
    }
   ],
   "source": [
    "data.groupby(['year'])['country'].nunique()"
   ]
  },
  {
   "cell_type": "code",
   "execution_count": 119,
   "metadata": {},
   "outputs": [],
   "source": [
    "out = []\n",
    "for i in range(89):\n",
    "    out+=[{}]"
   ]
  },
  {
   "cell_type": "code",
   "execution_count": 121,
   "metadata": {},
   "outputs": [
    {
     "data": {
      "text/plain": [
       "array([{}, {}, {}, {}, {}, {}, {}, {}, {}, {}, {}, {}, {}, {}, {}, {}, {},\n",
       "       {}, {}, {}, {}, {}, {}, {}, {}, {}, {}, {}, {}, {}, {}, {}, {}, {},\n",
       "       {}, {}, {}, {}, {}, {}, {}, {}, {}, {}, {}, {}, {}, {}, {}, {}, {},\n",
       "       {}, {}, {}, {}, {}, {}, {}, {}, {}, {}, {}, {}, {}, {}, {}, {}, {},\n",
       "       {}, {}, {}, {}, {}, {}, {}, {}, {}, {}, {}, {}, {}, {}, {}, {}, {},\n",
       "       {}, {}, {}, {}], dtype=object)"
      ]
     },
     "execution_count": 121,
     "metadata": {},
     "output_type": "execute_result"
    }
   ],
   "source": [
    "np.array(out)"
   ]
  },
  {
   "cell_type": "code",
   "execution_count": null,
   "metadata": {},
   "outputs": [],
   "source": []
  }
 ],
 "metadata": {
  "kernelspec": {
   "display_name": "Python 3",
   "language": "python",
   "name": "python3"
  },
  "language_info": {
   "codemirror_mode": {
    "name": "ipython",
    "version": 3
   },
   "file_extension": ".py",
   "mimetype": "text/x-python",
   "name": "python",
   "nbconvert_exporter": "python",
   "pygments_lexer": "ipython3",
   "version": "3.7.4"
  }
 },
 "nbformat": 4,
 "nbformat_minor": 2
}
